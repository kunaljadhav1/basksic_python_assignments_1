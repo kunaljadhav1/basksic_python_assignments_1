{
  "cells": [
    {
      "cell_type": "markdown",
      "metadata": {
        "id": "view-in-github",
        "colab_type": "text"
      },
      "source": [
        "<a href=\"https://colab.research.google.com/github/kunaljadhav1/basksic_python_assignments_1/blob/main/1ST_ASSIGNMENT_(2).ipynb\" target=\"_parent\"><img src=\"https://colab.research.google.com/assets/colab-badge.svg\" alt=\"Open In Colab\"/></a>"
      ]
    },
    {
      "cell_type": "markdown",
      "source": [
        "## Qestion 1\n",
        "Explain the key features of python that make it a popular choice for progamming\n",
        "\n",
        "Ans:Python is a programming language (formal language) for giving instruction or creating insruction for a computer to follow. Python having set of rules & symbols that defines the pocess of working computer progam.Python is widely used language amoung the developer and coder. It is easy to understand, easy to read language.Pyton have standard library which having pre built functionality and help to do critical problems very effective and easy manner.\n",
        "\n"
      ],
      "metadata": {
        "id": "3FHlhjmpSddh"
      },
      "id": "3FHlhjmpSddh"
    },
    {
      "cell_type": "raw",
      "id": "1f99304b-667a-4022-96f8-3f6230c03a80",
      "metadata": {
        "id": "1f99304b-667a-4022-96f8-3f6230c03a80"
      },
      "source": [
        "Qestion 1\n",
        "Explain the key features of python that make it a popular choice for progamming\n",
        "\n",
        "Ans:Python is a programming language (formal language) for giving instruction or creating insruction for a computer to follow. Python having set of rules & symbols that defines the pocess of working computer progam.Python is widely used language amoung the developer and coder. It is easy to understand, easy to read language.Pyton have standard library which having pre built functionality and help to do critical problems very effective and easy manner.\n",
        "\n"
      ]
    },
    {
      "cell_type": "markdown",
      "id": "c5739cbe-27dc-4f46-8d4d-33eff2fb0fb1",
      "metadata": {
        "id": "c5739cbe-27dc-4f46-8d4d-33eff2fb0fb1"
      },
      "source": [
        "Qustion 2\n",
        "Describe the role of predefined keywords in python and proide examples of how they are used in a program.\n",
        "\n",
        "ANS:Predefined keywords in python have some specific meanin and its reserved for some specific function and for syntex.\n",
        "for exmple variable name should be in alphabet or start with (_) underscore other element can not become variable.\n"
      ]
    },
    {
      "cell_type": "code",
      "execution_count": null,
      "id": "e81f470c-6377-4ef9-a773-c4bcf7762e20",
      "metadata": {
        "id": "e81f470c-6377-4ef9-a773-c4bcf7762e20",
        "outputId": "bbda92a4-1315-4fb4-d62a-6b0928e4878e"
      },
      "outputs": [
        {
          "name": "stdout",
          "output_type": "stream",
          "text": [
            "hello world\n",
            "\n",
            "Here is a list of the Python keywords.  Enter any keyword to get more help.\n",
            "\n",
            "False               class               from                or\n",
            "None                continue            global              pass\n",
            "True                def                 if                  raise\n",
            "and                 del                 import              return\n",
            "as                  elif                in                  try\n",
            "assert              else                is                  while\n",
            "async               except              lambda              with\n",
            "await               finally             nonlocal            yield\n",
            "break               for                 not                 \n",
            "\n"
          ]
        }
      ],
      "source": [
        "#Qustion 2 Describe the role of predefined keywords in python and proide examples of how they are used in a program.\n",
        "#how we can get the predefined key , to know what are the key we have code for that\n",
        "\n",
        "#print use for the output what we want\n",
        "print(\"hello world\")\n",
        "\n",
        "\n",
        "# true / false we say them as bool value\n",
        "help(\"keywords\")"
      ]
    },
    {
      "cell_type": "code",
      "execution_count": null,
      "id": "477cb9ba-76ab-4758-8f1f-0a757b295d1c",
      "metadata": {
        "id": "477cb9ba-76ab-4758-8f1f-0a757b295d1c",
        "outputId": "d530f279-377a-4d3b-971e-d710872b072e"
      },
      "outputs": [
        {
          "name": "stdout",
          "output_type": "stream",
          "text": [
            "[1, 2, 3, 'y', 4]\n"
          ]
        },
        {
          "ename": "TypeError",
          "evalue": "'str' object does not support item assignment",
          "output_type": "error",
          "traceback": [
            "\u001b[0;31m---------------------------------------------------------------------------\u001b[0m",
            "\u001b[0;31mTypeError\u001b[0m                                 Traceback (most recent call last)",
            "Cell \u001b[0;32mIn[13], line 16\u001b[0m\n\u001b[1;32m     13\u001b[0m \u001b[38;5;66;03m#this is mutable objects\u001b[39;00m\n\u001b[1;32m     15\u001b[0m a\u001b[38;5;241m=\u001b[39m\u001b[38;5;124m\"\u001b[39m\u001b[38;5;124mkunal\u001b[39m\u001b[38;5;124m\"\u001b[39m\n\u001b[0;32m---> 16\u001b[0m \u001b[43ma\u001b[49m\u001b[43m[\u001b[49m\u001b[38;5;241;43m0\u001b[39;49m\u001b[43m]\u001b[49m\u001b[38;5;241m=\u001b[39m(\u001b[38;5;124m\"\u001b[39m\u001b[38;5;124mram\u001b[39m\u001b[38;5;124m\"\u001b[39m)\n\u001b[1;32m     18\u001b[0m \u001b[38;5;66;03m#this is the example of immutable objects \u001b[39;00m\n",
            "\u001b[0;31mTypeError\u001b[0m: 'str' object does not support item assignment"
          ]
        }
      ],
      "source": [
        "#Question 3\n",
        "#Compare & contrast mutable &immutable objects in python with exampes.\n",
        "\n",
        "#Ans:Mutable objects are those objects whose state or value can be changed after they are created.\n",
        "#Immutable objets cant be changed\n",
        "#lists are the mutable objcts where as strings are immutable.\n",
        "\n",
        "#for example\n",
        "list=[1,2,3,\"k\",4]\n",
        "list[3]=(\"y\")\n",
        "print(list)\n",
        "\n",
        "#this is mutable objects\n",
        "\n",
        "a=\"kunal\"\n",
        "a[0]=(\"ram\")\n",
        "\n",
        "#this is the example of immutable objects\n",
        "\n",
        "\n"
      ]
    },
    {
      "cell_type": "code",
      "execution_count": null,
      "id": "d58025c5-af39-4a8e-bd50-6c76487a1477",
      "metadata": {
        "id": "d58025c5-af39-4a8e-bd50-6c76487a1477",
        "outputId": "062f0924-96ec-4095-b21b-0ff1bb332aee"
      },
      "outputs": [
        {
          "data": {
            "text/plain": [
              "60"
            ]
          },
          "execution_count": 20,
          "metadata": {},
          "output_type": "execute_result"
        }
      ],
      "source": [
        "#Question 4\n",
        "#discuss the different types of operation in python and provide examples of how they are used\n",
        "\n",
        "#ANS: Operator are used to perform various operation on value and variables.These are having special symbols\n",
        "\n",
        "#1) Arithmattic operator: used for doing arithatic problem\n",
        "100-40"
      ]
    },
    {
      "cell_type": "code",
      "execution_count": null,
      "id": "a9e79216-5485-4b1e-b3cf-ef0fe449ce8b",
      "metadata": {
        "id": "a9e79216-5485-4b1e-b3cf-ef0fe449ce8b",
        "outputId": "2655d753-c204-4b1e-c262-624e1613beb0"
      },
      "outputs": [
        {
          "data": {
            "text/plain": [
              "15"
            ]
          },
          "execution_count": 21,
          "metadata": {},
          "output_type": "execute_result"
        }
      ],
      "source": [
        "#arithmatic operator\n",
        "3*5"
      ]
    },
    {
      "cell_type": "code",
      "execution_count": null,
      "id": "5522754e-eff2-499d-a423-c7ff891b6f2c",
      "metadata": {
        "id": "5522754e-eff2-499d-a423-c7ff891b6f2c",
        "outputId": "4673b4ca-f2e1-4f4f-d025-e7e9f15e757a"
      },
      "outputs": [
        {
          "data": {
            "text/plain": [
              "False"
            ]
          },
          "execution_count": 22,
          "metadata": {},
          "output_type": "execute_result"
        }
      ],
      "source": [
        "#COMPARISON OPERATOR: Used for comparing objects\n",
        "2==3"
      ]
    },
    {
      "cell_type": "code",
      "execution_count": null,
      "id": "b550050d-4d83-46ec-92f0-5822db535372",
      "metadata": {
        "id": "b550050d-4d83-46ec-92f0-5822db535372"
      },
      "outputs": [],
      "source": [
        "#LOGICAL OPERATOR\n",
        "#OR\n",
        "#AND\n",
        "#TRUE=1 & FALSE =0\n"
      ]
    },
    {
      "cell_type": "code",
      "execution_count": null,
      "id": "d5c99a8f-a833-4ecd-9114-3830afd412f1",
      "metadata": {
        "id": "d5c99a8f-a833-4ecd-9114-3830afd412f1",
        "outputId": "658b062f-d53d-4138-8a0a-f6885bc5e371"
      },
      "outputs": [
        {
          "data": {
            "text/plain": [
              "5"
            ]
          },
          "execution_count": 25,
          "metadata": {},
          "output_type": "execute_result"
        }
      ],
      "source": [
        "#ASSIGNMEN OPERATOR\n",
        "a=5\n",
        "a"
      ]
    },
    {
      "cell_type": "code",
      "execution_count": null,
      "id": "539bf6f6-ae6b-4d50-899c-209df7d9fe66",
      "metadata": {
        "id": "539bf6f6-ae6b-4d50-899c-209df7d9fe66",
        "outputId": "0f871be8-5dde-4f3d-c855-d5d2aee2b377"
      },
      "outputs": [
        {
          "data": {
            "text/plain": [
              "True"
            ]
          },
          "execution_count": 27,
          "metadata": {},
          "output_type": "execute_result"
        }
      ],
      "source": [
        "#membership operator\n",
        "a=\"pwskills\"\n",
        "\"p\" in a"
      ]
    },
    {
      "cell_type": "code",
      "execution_count": null,
      "id": "fd57e72c-79c2-4dd7-b559-caf0765b3efd",
      "metadata": {
        "id": "fd57e72c-79c2-4dd7-b559-caf0765b3efd",
        "outputId": "eec35cee-8c6a-4224-a7d2-86698537271c"
      },
      "outputs": [
        {
          "data": {
            "text/plain": [
              "False"
            ]
          },
          "execution_count": 29,
          "metadata": {},
          "output_type": "execute_result"
        }
      ],
      "source": [
        "#identity operator-compare the location of the two objects\n",
        "a=2\n",
        "b=3\n",
        "a is b"
      ]
    },
    {
      "cell_type": "code",
      "execution_count": null,
      "id": "c388c62a-196f-4f6d-8071-b8ebe5343209",
      "metadata": {
        "id": "c388c62a-196f-4f6d-8071-b8ebe5343209",
        "outputId": "3e7cac6a-c395-41eb-b52e-bcfbba7685c0"
      },
      "outputs": [
        {
          "data": {
            "text/plain": [
              "10"
            ]
          },
          "execution_count": 31,
          "metadata": {},
          "output_type": "execute_result"
        }
      ],
      "source": [
        "#bit wise operator >operating at bit level\n",
        "10 & 10"
      ]
    },
    {
      "cell_type": "code",
      "execution_count": null,
      "id": "c9598d43-0796-472c-80ee-2ff0cc548e7b",
      "metadata": {
        "id": "c9598d43-0796-472c-80ee-2ff0cc548e7b",
        "outputId": "2328048e-2562-4def-9c4f-ad459f0280ec"
      },
      "outputs": [
        {
          "data": {
            "text/plain": [
              "-4"
            ]
          },
          "execution_count": 33,
          "metadata": {},
          "output_type": "execute_result"
        }
      ],
      "source": [
        "#negation\n",
        "~3"
      ]
    },
    {
      "cell_type": "code",
      "execution_count": null,
      "id": "f64b6fcf-f4c1-4b36-9041-52672681a014",
      "metadata": {
        "id": "f64b6fcf-f4c1-4b36-9041-52672681a014",
        "outputId": "db1c6d05-da37-46b6-b83b-f45360904651"
      },
      "outputs": [
        {
          "data": {
            "text/plain": [
              "280"
            ]
          },
          "execution_count": 35,
          "metadata": {},
          "output_type": "execute_result"
        }
      ],
      "source": [
        "#shift operator right & left shift position by addig xero\n",
        "35<<3"
      ]
    },
    {
      "cell_type": "code",
      "execution_count": null,
      "id": "5ee9dfbd-78c9-4e2f-aa05-834ff8163156",
      "metadata": {
        "id": "5ee9dfbd-78c9-4e2f-aa05-834ff8163156",
        "outputId": "d5705761-2576-458f-84ef-9e1ebad90cef"
      },
      "outputs": [
        {
          "data": {
            "text/plain": [
              "5"
            ]
          },
          "execution_count": 4,
          "metadata": {},
          "output_type": "execute_result"
        }
      ],
      "source": [
        "#Question 5\n",
        "#Explain the concept of type casting in python with examples\n",
        "\n",
        "#ANS:In type casting you can change python variable into different data type.for example strings into integer.\n",
        "\n",
        "#type casing/data cnversion\n",
        "a=\"2\"\n",
        "b=3\n",
        "int(a)+b\n",
        "\n"
      ]
    },
    {
      "cell_type": "code",
      "execution_count": null,
      "id": "6f464ffd-33cf-494b-be6f-5898c902fa59",
      "metadata": {
        "id": "6f464ffd-33cf-494b-be6f-5898c902fa59",
        "outputId": "f31ccc07-13ad-4741-8fdc-a6a1fef68672"
      },
      "outputs": [
        {
          "name": "stdout",
          "output_type": "stream",
          "text": [
            "<class 'str'>\n",
            "<class 'int'>\n"
          ]
        }
      ],
      "source": [
        "a=\"2\"\n",
        "print(type(a))\n",
        "print(type(int(a)))\n"
      ]
    },
    {
      "cell_type": "code",
      "execution_count": null,
      "id": "b16dfa35-5dc3-4027-be03-28ee96bf4ef6",
      "metadata": {
        "id": "b16dfa35-5dc3-4027-be03-28ee96bf4ef6",
        "outputId": "1c2b1b18-64b4-4adb-a774-6cc7198f6e8f"
      },
      "outputs": [
        {
          "name": "stdout",
          "output_type": "stream",
          "text": [
            "the no is greater than 0.\n"
          ]
        }
      ],
      "source": [
        "#Question 6\n",
        "#How do conditional statement work i python? Illustrate with example\n",
        "\n",
        "#ANS: Conditional Statements are the choise made in different situation and if the condition is true the block of code wil be executed\n",
        "#There are different type of condition for exampe if,ifelse,if elif else,nested if\n",
        "\n",
        "#if codition\n",
        "a=100\n",
        "if a>0:\n",
        "    print(\"the no is greater than 0.\")\n",
        ""
      ]
    },
    {
      "cell_type": "code",
      "execution_count": null,
      "id": "a0ce9eb1-2db6-42b7-b4bb-d28dceffce4c",
      "metadata": {
        "id": "a0ce9eb1-2db6-42b7-b4bb-d28dceffce4c",
        "outputId": "43f5cd15-4064-4db0-e290-9b8c92bb133e"
      },
      "outputs": [
        {
          "name": "stdout",
          "output_type": "stream",
          "text": [
            "i will not play cricket\n"
          ]
        }
      ],
      "source": [
        "#if else\n",
        "weather= \"rainy\"\n",
        "if weather==\"rainy\":\n",
        "    print(\"i will not play cricket\")\n",
        "else:\n",
        "     print(\"i will play cricket\")\n"
      ]
    },
    {
      "cell_type": "code",
      "execution_count": null,
      "id": "3ed2cc47-f05b-4e94-b8f7-409d74056329",
      "metadata": {
        "id": "3ed2cc47-f05b-4e94-b8f7-409d74056329",
        "outputId": "530d88b9-1aeb-4015-bc71-62d37643018c"
      },
      "outputs": [
        {
          "name": "stdout",
          "output_type": "stream",
          "text": [
            "a is less tha 100\n"
          ]
        }
      ],
      "source": [
        "#if-elif\n",
        "a=10\n",
        "if a>100:\n",
        "    print(\"a is greater than 100\")\n",
        "elif a<100:\n",
        "    print(\"a is less tha 100\")\n",
        "else:\n",
        "    print(\"a is equal to 100\")"
      ]
    },
    {
      "cell_type": "code",
      "execution_count": null,
      "id": "13b2347a-6045-4583-8531-b1a9432ae261",
      "metadata": {
        "id": "13b2347a-6045-4583-8531-b1a9432ae261",
        "outputId": "5243e8a0-7422-45de-f42e-ae6eb5792991"
      },
      "outputs": [
        {
          "name": "stdout",
          "output_type": "stream",
          "text": [
            "x is not greater than 5\n"
          ]
        }
      ],
      "source": [
        "#nested if you can have multiple condition\n",
        "x=1\n",
        "y=6\n",
        "if x>5:\n",
        "    if y>5:\n",
        "        print(\"both x y is gearter than 5\")\n",
        "    else:\n",
        "        print(\"x is greater than 5 but y is less than 5\")\n",
        "else:\n",
        "    print(\"x is not greater than 5\")"
      ]
    },
    {
      "cell_type": "code",
      "execution_count": null,
      "id": "62dfd209-e16d-456c-a674-c795f1d87e95",
      "metadata": {
        "id": "62dfd209-e16d-456c-a674-c795f1d87e95",
        "outputId": "0ce3229a-c780-4b7b-a162-2dcb83e95818"
      },
      "outputs": [
        {
          "name": "stdout",
          "output_type": "stream",
          "text": [
            "5\n",
            "4\n",
            "3\n",
            "2\n",
            "1\n"
          ]
        }
      ],
      "source": [
        "#QUESTION 7\n",
        "#Describe the different types of loops in python and their use cases with examples\n",
        "\n",
        "#ANS:It allows you to execute a block of code repeatedely\n",
        "\n",
        "#While\n",
        "count=5\n",
        "while count>0:\n",
        "    print(count)\n",
        "    count=count-1\n"
      ]
    },
    {
      "cell_type": "code",
      "execution_count": null,
      "id": "756804e9-f763-4ca4-ab86-4c1459fb3304",
      "metadata": {
        "id": "756804e9-f763-4ca4-ab86-4c1459fb3304",
        "outputId": "c2b04b51-2d54-4f38-97c8-72abfd3a01d3"
      },
      "outputs": [
        {
          "name": "stdout",
          "output_type": "stream",
          "text": [
            "p\n",
            "w\n",
            "s\n",
            "k\n",
            "i\n",
            "l\n",
            "s\n"
          ]
        }
      ],
      "source": [
        "#for loop>> iterate over sequence\n",
        "for i in \"pwskils\":\n",
        "    print(i)"
      ]
    }
  ],
  "metadata": {
    "kernelspec": {
      "display_name": "Python 3 (ipykernel)",
      "language": "python",
      "name": "python3"
    },
    "language_info": {
      "codemirror_mode": {
        "name": "ipython",
        "version": 3
      },
      "file_extension": ".py",
      "mimetype": "text/x-python",
      "name": "python",
      "nbconvert_exporter": "python",
      "pygments_lexer": "ipython3",
      "version": "3.10.8"
    },
    "colab": {
      "provenance": [],
      "include_colab_link": true
    }
  },
  "nbformat": 4,
  "nbformat_minor": 5
}